{
 "cells": [
  {
   "cell_type": "markdown",
   "metadata": {},
   "source": [
    "<h1>Anime Recommendation System</h1>"
   ]
  },
  {
   "cell_type": "markdown",
   "metadata": {},
   "source": [
    "<div>Hello! Welcome the the Anime Recommendation System!</div> \n",
    "To hide the code and only view the UI, please press the \"Appmode\" button in the top toolbar."
   ]
  },
  {
   "cell_type": "code",
   "execution_count": 1,
   "metadata": {
    "hide_input": true
   },
   "outputs": [],
   "source": [
    "#This cell contains required imports\n",
    "import numpy as np\n",
    "import pandas as pd\n",
    "import matplotlib.pyplot as plt\n",
    "import seaborn as sns\n",
    "import ipywidgets as widgets\n",
    "import string\n",
    "from sklearn.feature_extraction.text import CountVectorizer\n",
    "from sklearn.metrics.pairwise import cosine_similarity"
   ]
  },
  {
   "cell_type": "markdown",
   "metadata": {
    "hide_input": false
   },
   "source": [
    "Use the buttons below to jump to a specific section:"
   ]
  },
  {
   "cell_type": "markdown",
   "metadata": {
    "hide_input": false
   },
   "source": [
    "<button>[Recommendation System](#recommendation_system)</button>\n",
    "<button>[Management Dashboard](#management_dashboard)</button>"
   ]
  },
  {
   "cell_type": "markdown",
   "metadata": {},
   "source": [
    "The next cell imports the anime data, which was found on Kaggle.com and collected by Alan Mathew from anime-planet"
   ]
  },
  {
   "cell_type": "code",
   "execution_count": 2,
   "metadata": {},
   "outputs": [],
   "source": [
    "data = pd.read_csv('anime.csv')"
   ]
  },
  {
   "cell_type": "markdown",
   "metadata": {},
   "source": [
    "Here are the first 3 rows of the data set:"
   ]
  },
  {
   "cell_type": "code",
   "execution_count": 31,
   "metadata": {},
   "outputs": [
    {
     "data": {
      "text/html": [
       "<div>\n",
       "<style scoped>\n",
       "    .dataframe tbody tr th:only-of-type {\n",
       "        vertical-align: middle;\n",
       "    }\n",
       "\n",
       "    .dataframe tbody tr th {\n",
       "        vertical-align: top;\n",
       "    }\n",
       "\n",
       "    .dataframe thead th {\n",
       "        text-align: right;\n",
       "    }\n",
       "</style>\n",
       "<table border=\"1\" class=\"dataframe\">\n",
       "  <thead>\n",
       "    <tr style=\"text-align: right;\">\n",
       "      <th></th>\n",
       "      <th>title</th>\n",
       "      <th>mediaType</th>\n",
       "      <th>eps</th>\n",
       "      <th>duration</th>\n",
       "      <th>ongoing</th>\n",
       "      <th>startYr</th>\n",
       "      <th>finishYr</th>\n",
       "      <th>sznOfRelease</th>\n",
       "      <th>description</th>\n",
       "      <th>studios</th>\n",
       "      <th>tags</th>\n",
       "      <th>contentWarn</th>\n",
       "      <th>watched</th>\n",
       "      <th>watching</th>\n",
       "      <th>wantWatch</th>\n",
       "      <th>dropped</th>\n",
       "      <th>rating</th>\n",
       "      <th>votes</th>\n",
       "    </tr>\n",
       "  </thead>\n",
       "  <tbody>\n",
       "    <tr>\n",
       "      <th>0</th>\n",
       "      <td>Fullmetal Alchemist: Brotherhood</td>\n",
       "      <td>TV</td>\n",
       "      <td>64.0</td>\n",
       "      <td>NaN</td>\n",
       "      <td>False</td>\n",
       "      <td>2009.0</td>\n",
       "      <td>2010.0</td>\n",
       "      <td>Spring</td>\n",
       "      <td>The foundation of alchemy is based on the law ...</td>\n",
       "      <td>['Bones']</td>\n",
       "      <td>['Action', 'Adventure', 'Drama', 'Fantasy', 'M...</td>\n",
       "      <td>['Animal Abuse', 'Mature Themes', 'Violence', ...</td>\n",
       "      <td>103707.0</td>\n",
       "      <td>14351</td>\n",
       "      <td>25810</td>\n",
       "      <td>2656</td>\n",
       "      <td>4.702</td>\n",
       "      <td>86547.0</td>\n",
       "    </tr>\n",
       "    <tr>\n",
       "      <th>1</th>\n",
       "      <td>your name.</td>\n",
       "      <td>Movie</td>\n",
       "      <td>1.0</td>\n",
       "      <td>107.0</td>\n",
       "      <td>False</td>\n",
       "      <td>2016.0</td>\n",
       "      <td>2016.0</td>\n",
       "      <td>NaN</td>\n",
       "      <td>Mitsuha and Taki are two total strangers livin...</td>\n",
       "      <td>['CoMix Wave Films']</td>\n",
       "      <td>['Drama', 'Romance', 'Body Swapping', 'Gender ...</td>\n",
       "      <td>[]</td>\n",
       "      <td>58831.0</td>\n",
       "      <td>1453</td>\n",
       "      <td>21733</td>\n",
       "      <td>124</td>\n",
       "      <td>4.663</td>\n",
       "      <td>43960.0</td>\n",
       "    </tr>\n",
       "    <tr>\n",
       "      <th>2</th>\n",
       "      <td>A Silent Voice</td>\n",
       "      <td>Movie</td>\n",
       "      <td>1.0</td>\n",
       "      <td>130.0</td>\n",
       "      <td>False</td>\n",
       "      <td>2016.0</td>\n",
       "      <td>2016.0</td>\n",
       "      <td>NaN</td>\n",
       "      <td>After transferring into a new school, a deaf g...</td>\n",
       "      <td>['Kyoto Animation']</td>\n",
       "      <td>['Drama', 'Shounen', 'Disability', 'Melancholy...</td>\n",
       "      <td>['Bullying', 'Mature Themes', 'Suicide']</td>\n",
       "      <td>45892.0</td>\n",
       "      <td>946</td>\n",
       "      <td>17148</td>\n",
       "      <td>132</td>\n",
       "      <td>4.661</td>\n",
       "      <td>33752.0</td>\n",
       "    </tr>\n",
       "  </tbody>\n",
       "</table>\n",
       "</div>"
      ],
      "text/plain": [
       "                              title mediaType   eps  duration  ongoing  \\\n",
       "0  Fullmetal Alchemist: Brotherhood        TV  64.0       NaN    False   \n",
       "1                        your name.     Movie   1.0     107.0    False   \n",
       "2                    A Silent Voice     Movie   1.0     130.0    False   \n",
       "\n",
       "   startYr  finishYr sznOfRelease  \\\n",
       "0   2009.0    2010.0       Spring   \n",
       "1   2016.0    2016.0          NaN   \n",
       "2   2016.0    2016.0          NaN   \n",
       "\n",
       "                                         description               studios  \\\n",
       "0  The foundation of alchemy is based on the law ...             ['Bones']   \n",
       "1  Mitsuha and Taki are two total strangers livin...  ['CoMix Wave Films']   \n",
       "2  After transferring into a new school, a deaf g...   ['Kyoto Animation']   \n",
       "\n",
       "                                                tags  \\\n",
       "0  ['Action', 'Adventure', 'Drama', 'Fantasy', 'M...   \n",
       "1  ['Drama', 'Romance', 'Body Swapping', 'Gender ...   \n",
       "2  ['Drama', 'Shounen', 'Disability', 'Melancholy...   \n",
       "\n",
       "                                         contentWarn   watched  watching  \\\n",
       "0  ['Animal Abuse', 'Mature Themes', 'Violence', ...  103707.0     14351   \n",
       "1                                                 []   58831.0      1453   \n",
       "2           ['Bullying', 'Mature Themes', 'Suicide']   45892.0       946   \n",
       "\n",
       "   wantWatch  dropped  rating    votes  \n",
       "0      25810     2656   4.702  86547.0  \n",
       "1      21733      124   4.663  43960.0  \n",
       "2      17148      132   4.661  33752.0  "
      ]
     },
     "execution_count": 31,
     "metadata": {},
     "output_type": "execute_result"
    }
   ],
   "source": [
    "data.head(3)"
   ]
  },
  {
   "cell_type": "code",
   "execution_count": 5,
   "metadata": {
    "hide_input": true,
    "scrolled": true
   },
   "outputs": [
    {
     "name": "stdout",
     "output_type": "stream",
     "text": [
      "Choose what categories the recommendation will be based on:\n"
     ]
    },
    {
     "data": {
      "application/vnd.jupyter.widget-view+json": {
       "model_id": "645d8ff7cfae427dbbbd41e6190393cd",
       "version_major": 2,
       "version_minor": 0
      },
      "text/plain": [
       "Output()"
      ]
     },
     "metadata": {},
     "output_type": "display_data"
    },
    {
     "data": {
      "application/vnd.jupyter.widget-view+json": {
       "model_id": "3306ad4dacc14d3dbceed2b97566e9a9",
       "version_major": 2,
       "version_minor": 0
      },
      "text/plain": [
       "HBox(children=(Checkbox(value=False, description='Title'), Checkbox(value=False, description='Media Type'), Ch…"
      ]
     },
     "metadata": {},
     "output_type": "display_data"
    },
    {
     "data": {
      "application/vnd.jupyter.widget-view+json": {
       "model_id": "339722128b9a459a8618979174c1e6dc",
       "version_major": 2,
       "version_minor": 0
      },
      "text/plain": [
       "HBox(children=(Checkbox(value=False, description='Start Year'), Checkbox(value=False, description='End Year'),…"
      ]
     },
     "metadata": {},
     "output_type": "display_data"
    },
    {
     "data": {
      "application/vnd.jupyter.widget-view+json": {
       "model_id": "bca98af86e06423589f76b7a7dd51062",
       "version_major": 2,
       "version_minor": 0
      },
      "text/plain": [
       "HBox(children=(Checkbox(value=True, description='Studios'), Checkbox(value=True, description='Tags'), Checkbox…"
      ]
     },
     "metadata": {},
     "output_type": "display_data"
    },
    {
     "data": {
      "application/vnd.jupyter.widget-view+json": {
       "model_id": "ceda308a0e5142b5a44135a8d14c7f43",
       "version_major": 2,
       "version_minor": 0
      },
      "text/plain": [
       "HBox(children=(Button(description='Apply', style=ButtonStyle(), tooltip='Click to apply recommendation setting…"
      ]
     },
     "metadata": {},
     "output_type": "display_data"
    }
   ],
   "source": [
    "print(\"Choose what categories the recommendation will be based on:\")\n",
    "\n",
    "out = widgets.Output()\n",
    "display(out)\n",
    "\n",
    "row1 = [Title_check, Media_Type_check, Episodes_check, Ongoing_check]\n",
    "row2 = [StartYr_check, EndYr_check, ReleaseSzn_check, Description_check]\n",
    "row3 = [Studio_check, Tags_check, Rating_check, Votes_check]\n",
    "button_row1 = widgets.HBox(row1)\n",
    "button_row2 = widgets.HBox(row2)\n",
    "button_row3 = widgets.HBox(row3)\n",
    "    \n",
    "display(button_row1, button_row2, button_row3)    \n",
    "    \n",
    "rec_parameters = []\n",
    "default_parameters = [Tags_check, Studio_check, Rating_check]\n",
    "\n",
    "def refresh_check_boxes(e):\n",
    "    out.clear_output()\n",
    "    for box in checkbox_list:\n",
    "        box.value = False\n",
    "    for box in default_parameters:\n",
    "        box.value = True\n",
    "\n",
    "def update_search_parameters(e):\n",
    "    out.clear_output(wait=True)\n",
    "    with out:\n",
    "        rec_parameters = []\n",
    "        for box in checkbox_list:\n",
    "            if box.value:\n",
    "                rec_parameters.append(box.description)\n",
    "        if len(rec_parameters) < 2:\n",
    "            print(\"Please select at least two tags\")\n",
    "        else: \n",
    "            out.clear_output()\n",
    "\n",
    "apply_search_parameters_button = widgets.Button(\n",
    "    description='Apply',\n",
    "    disabled=False,\n",
    "    button_style='', # 'success', 'info', 'warning', 'danger' or ''\n",
    "    tooltip='Click to apply recommendation settings',\n",
    "    icon='' #'check'\n",
    ")\n",
    "\n",
    "refresh_check_button = widgets.Button(\n",
    "    description='Reset to Defaults',\n",
    "    disabled=False,\n",
    "    button_style='', # 'success', 'info', 'warning', 'danger' or ''\n",
    "    tooltip='Click to reset filters to default settings',\n",
    "    icon='' #'check'\n",
    ")\n",
    "\n",
    "apply_search_parameters_button.on_click(update_search_parameters)\n",
    "refresh_check_button.on_click(refresh_check_boxes)\n",
    "\n",
    "display(widgets.HBox([apply_search_parameters_button, refresh_check_button]))"
   ]
  },
  {
   "cell_type": "code",
   "execution_count": 6,
   "metadata": {
    "hide_input": true,
    "scrolled": false
   },
   "outputs": [
    {
     "data": {
      "application/vnd.jupyter.widget-view+json": {
       "model_id": "2bb0078bc87f476b915e7d9203a513c5",
       "version_major": 2,
       "version_minor": 0
      },
      "text/plain": [
       "HBox(children=(Label(value='Get recommendation by Title:'), Text(value=''), Button(description='Search', style…"
      ]
     },
     "metadata": {},
     "output_type": "display_data"
    },
    {
     "data": {
      "application/vnd.jupyter.widget-view+json": {
       "model_id": "f05aa7be62d743de9a576a81af35aaa9",
       "version_major": 2,
       "version_minor": 0
      },
      "text/plain": [
       "Output()"
      ]
     },
     "metadata": {},
     "output_type": "display_data"
    }
   ],
   "source": [
    "search_text = widgets.Text(\n",
    "        disabled = False\n",
    ")\n",
    "search_button = widgets.Button(\n",
    "    description='Search',\n",
    "    disabled=False,\n",
    "    button_style='', # 'success', 'info', 'warning', 'danger' or ''\n",
    "    tooltip='Click to get recommendations',\n",
    "    icon='' #'check'\n",
    ")\n",
    "clear_button = widgets.Button(\n",
    "    description='Clear',\n",
    "    disabled=False,\n",
    "    button_style='', # 'success', 'info', 'warning', 'danger' or ''\n",
    "    tooltip='Click to clear search',\n",
    "    icon='' #'check'\n",
    ")\n",
    "\n",
    "output = widgets.Output()\n",
    "display(widgets.HBox([widgets.Label(value='Get recommendation by Title:'), search_text, search_button, clear_button]))\n",
    "display(output)\n",
    "\n",
    "def on_search_button_clicked(e):\n",
    "    output.clear_output()\n",
    "    with output:\n",
    "        raw_title = search_text.value\n",
    "        title = normalize_search(raw_title)\n",
    "        print('Getting recommendations for ' + raw_title)\n",
    "        perform_recommendation(title)\n",
    "        #add get recommendations here\n",
    "        \n",
    "def on_clear_button_clicked(e):\n",
    "        output.clear_output()\n",
    "\n",
    "search_button.on_click(on_search_button_clicked)\n",
    "clear_button.on_click(on_clear_button_clicked)\n",
    "\n",
    "def normalize_search(title):\n",
    "    title = title.lower()\n",
    "    title = title.strip()\n",
    "    title = title.replace(\" \", \"\") \n",
    "    \n",
    "    exclude = set(string.punctuation)\n",
    "    title = ''.join(ch for ch in title if ch not in exclude)\n",
    "    \n",
    "#     title = list(title.split(\" \")) \n",
    "    return title\n"
   ]
  },
  {
   "cell_type": "markdown",
   "metadata": {},
   "source": [
    "<a id='management_dashboard'></a>\n",
    "<h3>Management Dashboard</h3>"
   ]
  },
  {
   "cell_type": "markdown",
   "metadata": {},
   "source": [
    "\n"
   ]
  },
  {
   "cell_type": "markdown",
   "metadata": {},
   "source": [
    "Number of shows vs Number of votes"
   ]
  },
  {
   "cell_type": "code",
   "execution_count": 8,
   "metadata": {},
   "outputs": [
    {
     "data": {
      "text/plain": [
       "<matplotlib.axes._subplots.AxesSubplot at 0x1b61406ef40>"
      ]
     },
     "execution_count": 8,
     "metadata": {},
     "output_type": "execute_result"
    },
    {
     "data": {
      "image/png": "[encoded data removed]",
      "text/plain": [
       "<Figure size 720x288 with 1 Axes>"
      ]
     },
     "metadata": {
      "needs_background": "light"
     },
     "output_type": "display_data"
    }
   ],
   "source": [
    "plt.figure(figsize=(10,4))\n",
    "data['votes'].hist(bins=70)"
   ]
  },
  {
   "cell_type": "markdown",
   "metadata": {},
   "source": [
    "Show rating vs number of votes as well as the rating distribution"
   ]
  },
  {
   "cell_type": "code",
   "execution_count": 9,
   "metadata": {},
   "outputs": [
    {
     "data": {
      "text/plain": [
       "<seaborn.axisgrid.JointGrid at 0x1b6141a95b0>"
      ]
     },
     "execution_count": 9,
     "metadata": {},
     "output_type": "execute_result"
    },
    {
     "data": {
      "image/png": "[encoded data removed]",
      "text/plain": [
       "<Figure size 432x432 with 3 Axes>"
      ]
     },
     "metadata": {
      "needs_background": "light"
     },
     "output_type": "display_data"
    }
   ],
   "source": [
    "sns.jointplot(x='rating',y='votes',data=data,alpha=0.5)"
   ]
  },
  {
   "cell_type": "markdown",
   "metadata": {},
   "source": [
    "Rating quartiles by media type"
   ]
  },
  {
   "cell_type": "code",
   "execution_count": 10,
   "metadata": {},
   "outputs": [
    {
     "data": {
      "text/plain": [
       "<matplotlib.axes._subplots.AxesSubplot at 0x1b614396eb0>"
      ]
     },
     "execution_count": 10,
     "metadata": {},
     "output_type": "execute_result"
    },
    {
     "data": {
      "image/png": "[encoded data removed]",
      "text/plain": [
       "<Figure size 432x288 with 1 Axes>"
      ]
     },
     "metadata": {
      "needs_background": "light"
     },
     "output_type": "display_data"
    }
   ],
   "source": [
    "sns.boxplot(x=\"mediaType\", y=\"rating\", data=data,palette='rainbow')"
   ]
  },
  {
   "cell_type": "code",
   "execution_count": 11,
   "metadata": {},
   "outputs": [],
   "source": [
    "#The cells below contain the code for the recommendation system."
   ]
  },
  {
   "cell_type": "code",
   "execution_count": 12,
   "metadata": {},
   "outputs": [],
   "source": [
    "#Initial setup:"
   ]
  },
  {
   "cell_type": "code",
   "execution_count": 13,
   "metadata": {},
   "outputs": [],
   "source": [
    "#Add Weighted Rating"
   ]
  },
  {
   "cell_type": "code",
   "execution_count": 14,
   "metadata": {},
   "outputs": [],
   "source": [
    "C = data['rating'].mean()\n",
    "#remove data with less than 100 votes\n",
    "m = data['votes'].quantile(0.40)\n",
    "data_limited = data.copy().loc[data['votes'] >= m]"
   ]
  },
  {
   "cell_type": "code",
   "execution_count": 15,
   "metadata": {},
   "outputs": [],
   "source": [
    "def weighted_rating(x, m=m, C=C):\n",
    "    v = x['votes']\n",
    "    R = x['rating']\n",
    "    return (v/(v+m) * R) + (m / (m+v) * C)"
   ]
  },
  {
   "cell_type": "code",
   "execution_count": 16,
   "metadata": {},
   "outputs": [],
   "source": [
    "data_limited['score'] = data_limited.apply(weighted_rating, axis=1)"
   ]
  },
  {
   "cell_type": "code",
   "execution_count": 17,
   "metadata": {},
   "outputs": [],
   "source": [
    "#rename columnms to match displayed checkbox names\n",
    "mapping={\n",
    "    \"title\": \"Title\", \n",
    "    \"mediaType\": \"Media Type\",\n",
    "    \"eps\": \"Episodes\",\n",
    "    \"ongoing\": \"Ongoing\",\n",
    "    \"startYr\": \"Start Year\",\n",
    "    \"finishYr\": \"End Year\",\n",
    "    \"sznOfRelease\": \"Release Season\",\n",
    "    \"description\": \"Description\",\n",
    "    \"studios\": \"Studios\",\n",
    "    \"tags\": \"Tags\",\n",
    "    \"rating\": \"Rating\",\n",
    "    \"votes\": \"Number of Votes\"\n",
    "}\n",
    "\n",
    "data_limited = data_limited.rename(columns=mapping)"
   ]
  },
  {
   "cell_type": "code",
   "execution_count": 18,
   "metadata": {},
   "outputs": [],
   "source": [
    "#Recommendation main function:"
   ]
  },
  {
   "cell_type": "code",
   "execution_count": 19,
   "metadata": {},
   "outputs": [],
   "source": [
    "def perform_recommendation(title):\n",
    "    \n",
    "    if len(get_features()) < 2:\n",
    "        print('Please select at least two tags')\n",
    "        return\n",
    "    \n",
    "    if isinstance(data_limited['Title'][0], str):\n",
    "        if 'title_raw' not in data_limited.columns:\n",
    "            data_limited['title_raw'] = data_limited['Title'].copy()\n",
    "        data_limited['Title'] = data_limited.apply(clean_title, axis=1)\n",
    "    \n",
    "    clean_data()  \n",
    "    \n",
    "    data_limited['keywords'] = data_limited.apply(update_keywords, axis=1)\n",
    "    \n",
    "    cosine_sim = get_cosine_sim()\n",
    "    \n",
    "    recs = get_recommendations(title, cosine_sim)\n",
    "\n",
    "    if recs is not None:\n",
    "        display_recs(recs)"
   ]
  },
  {
   "cell_type": "code",
   "execution_count": 20,
   "metadata": {},
   "outputs": [],
   "source": [
    "def clean_data():\n",
    "    for col in data_limited.columns:\n",
    "        if col == 'Title' or col == 'title_raw':\n",
    "            continue\n",
    "        \n",
    "        if not isinstance(data_limited[col][0], str):\n",
    "            data_limited[col] = data_limited[col].astype(str)\n",
    "            data_limited[col] = data_limited[col].str[0:].str.split(' ').tolist()\n",
    "            \n",
    "        if isinstance(data_limited[col][0], str):\n",
    "            data_limited[col] = data_limited[col].str.replace('\\'', '')\n",
    "            data_limited[col] = data_limited[col].str.replace(',', '')\n",
    "            data_limited[col] = data_limited[col].str.strip('[')\n",
    "            data_limited[col] = data_limited[col].str.strip(']')\n",
    "            data_limited[col] = data_limited[col].str[0:].str.split(' ').tolist()"
   ]
  },
  {
   "cell_type": "code",
   "execution_count": 21,
   "metadata": {},
   "outputs": [],
   "source": [
    "def clean_title(row):\n",
    "    row['Title'] = row['Title'].lower()\n",
    "    row['Title'] = row['Title'].replace(\" \", \"\") \n",
    "    \n",
    "    exclude = set(string.punctuation)\n",
    "    row['Title'] = ''.join(ch for ch in row['Title'] if ch not in exclude)\n",
    "    return row['Title']"
   ]
  },
  {
   "cell_type": "code",
   "execution_count": 22,
   "metadata": {},
   "outputs": [],
   "source": [
    "def update_keywords(row):\n",
    "    keywords= []\n",
    "    selected_features = get_features()\n",
    "    \n",
    "    for col in selected_features:\n",
    "        keywords.extend(row[col]) \n",
    "\n",
    "    return ' '.join(keywords)\n"
   ]
  },
  {
   "cell_type": "code",
   "execution_count": 23,
   "metadata": {},
   "outputs": [],
   "source": [
    "def get_features():\n",
    "    features = []\n",
    "    \n",
    "    for box in checkbox_list:\n",
    "        if box.value:\n",
    "            features.append(box.description)\n",
    "            \n",
    "    return features"
   ]
  },
  {
   "cell_type": "code",
   "execution_count": 24,
   "metadata": {},
   "outputs": [],
   "source": [
    "def get_cosine_sim():\n",
    "    count = CountVectorizer(stop_words='english')\n",
    "    count_matrix = count.fit_transform(data_limited['keywords'])\n",
    "    return cosine_similarity(count_matrix, count_matrix)"
   ]
  },
  {
   "cell_type": "code",
   "execution_count": 25,
   "metadata": {},
   "outputs": [],
   "source": [
    "def get_recommendations(title, cosine_sim):\n",
    "    if valid_title(title):\n",
    "        print('Recommendations:')\n",
    "        \n",
    "        indices = pd.Series(data_limited.index, index=data_limited['Title'])\n",
    "        index = indices[title]\n",
    "        \n",
    "        similarity_scores = list(enumerate(cosine_sim[index]))\n",
    "        similarity_scores = sorted(similarity_scores, key=lambda x: x[1], reverse=True)\n",
    "        \n",
    "        similarity_scores = similarity_scores[1:11]\n",
    "        \n",
    "        anime_indices = [i[0] for i in similarity_scores]\n",
    "\n",
    "        return data_limited['title_raw'].iloc[anime_indices]\n",
    "        \n",
    "    else:\n",
    "        print('Title not found. Please try again.')\n",
    "        print('Tip: Spelling matters, but punctuation and spaces do not.')"
   ]
  },
  {
   "cell_type": "code",
   "execution_count": 26,
   "metadata": {},
   "outputs": [],
   "source": [
    "def valid_title(title):\n",
    "    #get input from search field and look through data for a match\n",
    "    return title in data_limited['Title'].values"
   ]
  },
  {
   "cell_type": "code",
   "execution_count": 27,
   "metadata": {},
   "outputs": [],
   "source": [
    "def display_recs(recs):\n",
    "    for rec in recs:\n",
    "        print(rec)"
   ]
  }
 ],
 "metadata": {
  "kernelspec": {
   "display_name": "Python 3",
   "language": "python",
   "name": "python3"
  },
  "language_info": {
   "codemirror_mode": {
    "name": "ipython",
    "version": 3
   },
   "file_extension": ".py",
   "mimetype": "text/x-python",
   "name": "python",
   "nbconvert_exporter": "python",
   "pygments_lexer": "ipython3",
   "version": "3.8.3"
  }
 },
 "nbformat": 4,
 "nbformat_minor": 4
}
